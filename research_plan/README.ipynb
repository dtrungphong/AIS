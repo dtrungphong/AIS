{
 "cells": [
  {
   "cell_type": "markdown",
   "metadata": {},
   "source": [
    "# Kế hoạch thực hiện việc nghiên cứu "
   ]
  },
  {
   "cell_type": "markdown",
   "metadata": {},
   "source": [
    "## Giới thiệu:\n",
    " - Dự án này được thực hiện nghiên cứu ứng dụng AI vào trong cảnh báo và dự đoán giá chứng khoán\n",
    " - Dự án được chia làm ba phần chính\n",
    " \n",
    "        - Phân tích kỹ thuật: Thông qua các biểu đồ trong chứng khoán\n",
    "        - Phân tích cơ bản: Phân tích qua những bài báo có mức độ ảnh hưởng đến giá chứng khoán\n",
    "        - Phân tích báo cáo tài chính: Thông qua báo cáo tài chính để đánh giá\n",
    "        \n",
    " - Dưới đây là mô tả bằng tiếng Việt về phương pháp thực hiện từng phần trong dự án"
   ]
  },
  {
   "cell_type": "markdown",
   "metadata": {},
   "source": [
    "## Phần 1: Phân tích kỹ thuật:"
   ]
  },
  {
   "cell_type": "markdown",
   "metadata": {},
   "source": [
    "### 1. Phương pháp:"
   ]
  },
  {
   "cell_type": "markdown",
   "metadata": {},
   "source": [
    "#### XỬ LÝ THU THẬP DỮ LIỆU"
   ]
  },
  {
   "cell_type": "markdown",
   "metadata": {},
   "source": [
    "- Tải toàn bộ dữ liệu của thị trường chứng khoán chưa được xử lý dưới dạng file csv về máy\n",
    "- Trong file dữ liệu tải về bao gồm: Ngày/tháng/năm, giá mở cửa, giá cao nhất, giá đóng cửa và số lượng giao dịch\n",
    "- File dữ liệu ở đây dưới dạng dữ liệu thô (Raw data) chưa được qua xử lý"
   ]
  },
  {
   "cell_type": "markdown",
   "metadata": {},
   "source": [
    "#### THỬ NGHIỆM VỚI MỘT MÃ CHỨNG KHOÁN"
   ]
  },
  {
   "cell_type": "markdown",
   "metadata": {},
   "source": [
    "- Chuyển từ dạng dữ liệu thô của mã chứng khoán được chọn sang các sơ đồ\n",
    "- Thực hiện với chuỗi sự thay đổi của 13 ngày liên tiếp\n",
    "- Tạo Label cho các chuỗi sự thay đổi của 13 ngày liên tiếp\n",
    "- Ghi kết quả của biểu đồ dưới dạng file dữ liệu đã được xử lý"
   ]
  },
  {
   "cell_type": "code",
   "execution_count": null,
   "metadata": {},
   "outputs": [],
   "source": []
  },
  {
   "cell_type": "code",
   "execution_count": null,
   "metadata": {},
   "outputs": [],
   "source": []
  },
  {
   "cell_type": "code",
   "execution_count": null,
   "metadata": {},
   "outputs": [],
   "source": []
  },
  {
   "cell_type": "code",
   "execution_count": null,
   "metadata": {},
   "outputs": [],
   "source": []
  },
  {
   "cell_type": "code",
   "execution_count": null,
   "metadata": {},
   "outputs": [],
   "source": []
  },
  {
   "cell_type": "code",
   "execution_count": null,
   "metadata": {},
   "outputs": [],
   "source": []
  }
 ],
 "metadata": {
  "kernelspec": {
   "display_name": "Python 3",
   "language": "python",
   "name": "python3"
  },
  "language_info": {
   "codemirror_mode": {
    "name": "ipython",
    "version": 3
   },
   "file_extension": ".py",
   "mimetype": "text/x-python",
   "name": "python",
   "nbconvert_exporter": "python",
   "pygments_lexer": "ipython3",
   "version": "3.7.0"
  }
 },
 "nbformat": 4,
 "nbformat_minor": 2
}
