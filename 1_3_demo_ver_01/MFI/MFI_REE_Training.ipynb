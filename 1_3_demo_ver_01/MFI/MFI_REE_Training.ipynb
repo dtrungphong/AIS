{
 "cells": [
  {
   "cell_type": "code",
   "execution_count": null,
   "metadata": {},
   "outputs": [],
   "source": [
    "import os\n",
    "import numpy as np\n",
    "import pandas as pd\n",
    "import matplotlib.pyplot as plt\n",
    "%matplotlib inline\n",
    "from sklearn.preprocessing import MinMaxScaler\n",
    "from tensorflow.keras.preprocessing.sequence import TimeseriesGenerator\n",
    "from tensorflow.keras.models import Sequential\n",
    "from tensorflow.keras.layers import Dense\n",
    "from tensorflow.keras.layers import LSTM\n",
    "from tensorflow.keras.layers import Dropout\n",
    "from tensorflow import keras\n",
    "from tensorflow.python.keras.callbacks import   ReduceLROnPlateau\n",
    "from tensorflow.keras import  optimizers\n",
    "import tensorflow as tf"
   ]
  },
  {
   "cell_type": "code",
   "execution_count": null,
   "metadata": {},
   "outputs": [],
   "source": [
    "wd='./'\n",
    "ratio = 0.73\n",
    "N = 3\n",
    "n_input = N\n",
    "n_features = 1\n",
    "n_units =N\n",
    "Drop = 0.5"
   ]
  },
  {
   "cell_type": "code",
   "execution_count": null,
   "metadata": {},
   "outputs": [],
   "source": [
    "df = pd.read_csv(os.path.join(wd,'REE_MFI.csv'))\n",
    "size_training = int(ratio*len(df))"
   ]
  },
  {
   "cell_type": "code",
   "execution_count": null,
   "metadata": {},
   "outputs": [],
   "source": [
    "training, testing = df[:size_training], df[size_training:]"
   ]
  },
  {
   "cell_type": "code",
   "execution_count": null,
   "metadata": {},
   "outputs": [],
   "source": [
    "def get_data(x,y,time_step,num_predict):\n",
    "    x_train= list()\n",
    "    y_train = list()\n",
    "    \n",
    "    for i in range(0,len(x) - time_step - num_predict):\n",
    "        x_train.append(x[i:i+time_step])\n",
    "        y_train.append(y[i+time_step:i+time_step+num_predict])\n",
    "    \n",
    "    return np.asarray(x_train), np.asarray(y_train)"
   ]
  },
  {
   "cell_type": "code",
   "execution_count": null,
   "metadata": {},
   "outputs": [],
   "source": [
    "x_train, Y_train = get_data(np.array(training['MFI']),np.array(training['Label']) ,N,1)\n",
    "# x_train = np.array(training['MFI'])\n",
    "# Y_train = np.array(training['Label'])\n",
    "x_train = x_train.reshape(-1,N,1)"
   ]
  },
  {
   "cell_type": "code",
   "execution_count": null,
   "metadata": {},
   "outputs": [],
   "source": [
    "callbacks = [ReduceLROnPlateau(monitor='acc', factor=0.142857, patience=5, min_lr=1e-11, verbose=1)]\n",
    "Optimizer = tf.keras.optimizers.SGD(lr=0.01, momentum=0.9, clipnorm=5.0)"
   ]
  },
  {
   "cell_type": "code",
   "execution_count": null,
   "metadata": {},
   "outputs": [],
   "source": [
    "model = Sequential()\n",
    "model.add(LSTM(units=n_units,activation='relu', input_shape=(n_input, n_features), return_sequences=False))\n",
    "model.add(Dropout(Drop))\n",
    "model.add(Dense(1,activation = 'sigmoid'))\n",
    "model.compile(optimizer=Optimizer, loss='binary_crossentropy',metrics = ['acc'])"
   ]
  },
  {
   "cell_type": "code",
   "execution_count": null,
   "metadata": {},
   "outputs": [],
   "source": [
    "model.fit(x_train,Y_train,epochs=150, verbose=1, batch_size=2476,callbacks = callbacks)"
   ]
  }
 ],
 "metadata": {
  "kernelspec": {
   "display_name": "Python 3",
   "language": "python",
   "name": "python3"
  },
  "language_info": {
   "codemirror_mode": {
    "name": "ipython",
    "version": 3
   },
   "file_extension": ".py",
   "mimetype": "text/x-python",
   "name": "python",
   "nbconvert_exporter": "python",
   "pygments_lexer": "ipython3",
   "version": "3.7.0"
  }
 },
 "nbformat": 4,
 "nbformat_minor": 2
}
