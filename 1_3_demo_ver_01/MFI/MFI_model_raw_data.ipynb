{
 "cells": [
  {
   "cell_type": "code",
   "execution_count": null,
   "metadata": {},
   "outputs": [],
   "source": [
    "import pandas as pd\n",
    "import numpy as np\n",
    "from itertools import product\n",
    "import os\n",
    "import matplotlib.pyplot as plt"
   ]
  },
  {
   "cell_type": "code",
   "execution_count": null,
   "metadata": {},
   "outputs": [],
   "source": [
    "path = '/home/trungphong/Desktop/AIS/folder_Data/Data/'"
   ]
  },
  {
   "cell_type": "code",
   "execution_count": null,
   "metadata": {},
   "outputs": [],
   "source": [
    "df = pd.read_csv(path+'REE.csv')"
   ]
  },
  {
   "cell_type": "code",
   "execution_count": null,
   "metadata": {},
   "outputs": [],
   "source": [
    "data = np.flip(np.array(df[['CLOSE','OPEN','HIGH','LOW','VOLUME']]),axis =0)\n",
    "training = data"
   ]
  },
  {
   "cell_type": "code",
   "execution_count": null,
   "metadata": {},
   "outputs": [],
   "source": [
    "\n",
    "# TP calculation function\n",
    "\n",
    "def TP_(training):\n",
    "    TP = np.zeros((len(training),), dtype=float)\n",
    "    for i in range(len(training)) :\n",
    "        TP[i] = (training[i][0]+training[i][1]+training[i][2])/3\n",
    "    return TP\n",
    "\n",
    "# MF calculation function\n",
    "\n",
    "def MF_(TP, V_):\n",
    "    MF = np.zeros((len(training),), dtype=float)\n",
    "    for i in range(len(TP)):\n",
    "        MF[i]=TP[i]*V_[i]\n",
    "    return MF\n",
    "\n",
    "# PMF and NMF calculation function\n",
    "\n",
    "def cal_PMF_NMF(MF):\n",
    "    PMF_NMF = np.zeros((len(training),), dtype=tuple)\n",
    "    PMF_NMF[0] = (MF[0],0)\n",
    "    for i in range(1,len(PMF_NMF)):\n",
    "        if MF[i]<MF[i-1]:\n",
    "            PMF_NMF[i]=(0,MF[i])\n",
    "            continue\n",
    "        PMF_NMF[i]=(MF[i],0)\n",
    "    return PMF_NMF\n",
    "\n",
    "# MFI calculation function\n",
    "\n",
    "def calcu_MFI(PMF_NMF):\n",
    "    MFI = np.zeros((len(training)-12,), dtype=float)\n",
    "    PMF_,NMF_=0,0\n",
    "    for iter_ in range(0,13):\n",
    "        PMF_+=PMF_NMF[iter_][0]\n",
    "        NMF_+=PMF_NMF[iter_][1]\n",
    "    MFI[0]=PMF_*100/(PMF_+NMF_)\n",
    "    for step_ in range(1,len(MFI)):\n",
    "        PMF_= PMF_- PMF_NMF[step_-1][0] + PMF_NMF[step_+12][0]\n",
    "        NMF_= NMF_- PMF_NMF[step_-1][1] + PMF_NMF[step_+12][1]\n",
    "        MFI[step_]=PMF_*100/(PMF_+NMF_)\n",
    "    return MFI"
   ]
  },
  {
   "cell_type": "code",
   "execution_count": null,
   "metadata": {},
   "outputs": [],
   "source": [
    "V_ = training[:,4] # volume \n",
    "TP = TP_(training) # call calculator TP\n",
    "MF = MF_(TP, V_) # call calculator MF\n",
    "PMF_NMF = cal_PMF_NMF(MF) # call calculator PMF and NMF\n",
    "MFI = calcu_MFI(PMF_NMF) # call calculator MFI(13)\n",
    "MFI = MFI[1:] #pass 13 first days "
   ]
  },
  {
   "cell_type": "code",
   "execution_count": null,
   "metadata": {},
   "outputs": [],
   "source": [
    "# create label for MFI\n",
    "label = np.zeros((len(training)-13,), dtype=bool)\n",
    "for iter_ in range(13,len(training)):\n",
    "    label[iter_-13]=training[iter_][0]>=training[iter_-1][0]"
   ]
  },
  {
   "cell_type": "code",
   "execution_count": null,
   "metadata": {},
   "outputs": [],
   "source": [
    "df = pd.DataFrame({'MFI':MFI,'Label':label})\n",
    "df.to_csv('REE_MFI.csv', index=True)"
   ]
  },
  {
   "cell_type": "code",
   "execution_count": null,
   "metadata": {},
   "outputs": [],
   "source": []
  }
 ],
 "metadata": {
  "kernelspec": {
   "display_name": "Python 3",
   "language": "python",
   "name": "python3"
  },
  "language_info": {
   "codemirror_mode": {
    "name": "ipython",
    "version": 3
   },
   "file_extension": ".py",
   "mimetype": "text/x-python",
   "name": "python",
   "nbconvert_exporter": "python",
   "pygments_lexer": "ipython3",
   "version": "3.7.0"
  }
 },
 "nbformat": 4,
 "nbformat_minor": 2
}
