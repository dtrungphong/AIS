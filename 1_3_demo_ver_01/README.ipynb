{
 "cells": [
  {
   "cell_type": "markdown",
   "metadata": {},
   "source": [
    "# VER_01"
   ]
  },
  {
   "cell_type": "markdown",
   "metadata": {},
   "source": [
    "## Mô tả"
   ]
  },
  {
   "cell_type": "markdown",
   "metadata": {},
   "source": [
    "- Thực hiện trên ba loại sơ đồ khối\n",
    "    - Momentum\n",
    "    - Money Flow Index\n",
    "    - RSI\n",
    "- Sử dụng mô hình LSTM để thực hiện\n",
    "- Thực hiện trên 1 mã chứng khoán: REE"
   ]
  },
  {
   "cell_type": "markdown",
   "metadata": {},
   "source": [
    "## QUÁ TRÌNH"
   ]
  },
  {
   "cell_type": "markdown",
   "metadata": {},
   "source": [
    "### Xử lý dữ liệu thô"
   ]
  },
  {
   "cell_type": "markdown",
   "metadata": {},
   "source": [
    "- Chuyển từ dạng dữ liệu thô của mã chứng khoán được chọn sang các sơ đồ được chọn\n",
    "- Thực hiện với chuỗi sự thay đổi của 13 ngày liên tiếp\n",
    "- Tạo Label cho các chuỗi sự thay đổi của 13 ngày liên tiếp"
   ]
  },
  {
   "cell_type": "markdown",
   "metadata": {},
   "source": [
    "### Huấn luyện mô hình"
   ]
  },
  {
   "cell_type": "markdown",
   "metadata": {},
   "source": [
    "- Xử dụng dữ liệu đã qua xử lý và gán nhãn qua các biểu đồ được chọn\n",
    "- Thực hiện việc huấn luyện các biểu đồ với mô hình LSTM\n",
    "- Đánh giá kết quả"
   ]
  },
  {
   "cell_type": "markdown",
   "metadata": {},
   "source": [
    "### Đánh giá kết quả"
   ]
  },
  {
   "cell_type": "code",
   "execution_count": null,
   "metadata": {},
   "outputs": [],
   "source": []
  }
 ],
 "metadata": {
  "kernelspec": {
   "display_name": "Python 3",
   "language": "python",
   "name": "python3"
  },
  "language_info": {
   "codemirror_mode": {
    "name": "ipython",
    "version": 3
   },
   "file_extension": ".py",
   "mimetype": "text/x-python",
   "name": "python",
   "nbconvert_exporter": "python",
   "pygments_lexer": "ipython3",
   "version": "3.7.0"
  }
 },
 "nbformat": 4,
 "nbformat_minor": 2
}
