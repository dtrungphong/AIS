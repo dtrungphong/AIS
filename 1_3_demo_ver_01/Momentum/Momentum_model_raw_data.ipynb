{
 "cells": [
  {
   "cell_type": "code",
   "execution_count": 1,
   "metadata": {},
   "outputs": [],
   "source": [
    "import pandas as pd\n",
    "import numpy as np\n",
    "from itertools import product\n",
    "import os\n",
    "import matplotlib.pyplot as plt"
   ]
  },
  {
   "cell_type": "code",
   "execution_count": 2,
   "metadata": {},
   "outputs": [],
   "source": [
    "path = '/home/trungphong/Desktop/AIS/folder_Data/Data/'"
   ]
  },
  {
   "cell_type": "code",
   "execution_count": 3,
   "metadata": {},
   "outputs": [],
   "source": [
    "df = pd.read_csv(path+'REE.csv')"
   ]
  },
  {
   "cell_type": "code",
   "execution_count": 4,
   "metadata": {},
   "outputs": [],
   "source": [
    "data = np.flip(np.array(df[['CLOSE','OPEN','HIGH','LOW','VOLUME']]),axis =0)"
   ]
  },
  {
   "cell_type": "code",
   "execution_count": 5,
   "metadata": {},
   "outputs": [],
   "source": [
    "P = data[:,0]"
   ]
  },
  {
   "cell_type": "code",
   "execution_count": 6,
   "metadata": {},
   "outputs": [],
   "source": [
    "\n",
    "def cal_Pn(P):\n",
    "    P_n = np.zeros(len(P)-13, dtype=float)\n",
    "    for i in range(13):\n",
    "        P_n[0]+=P[i]\n",
    "    for i in range(1,len(P_n)):\n",
    "        P_n[i]=P_n[i-1]-P[i-1]+P[i+12]\n",
    "    return P_n\n",
    "\n",
    "\n",
    "def cal_M(P,P_n):\n",
    "    M = np.zeros(len(P)-13, dtype=float)\n",
    "    for i in range(len(M)):\n",
    "        M[i]=(P[i+13]-P_n[i])\n",
    "    return M"
   ]
  },
  {
   "cell_type": "code",
   "execution_count": 7,
   "metadata": {},
   "outputs": [],
   "source": [
    "P_n = cal_Pn(P)\n",
    "M = cal_M(P, P_n)"
   ]
  },
  {
   "cell_type": "code",
   "execution_count": 9,
   "metadata": {},
   "outputs": [],
   "source": [
    "# create label for Momentum\n",
    "label = np.zeros((len(data)-13,), dtype=bool)\n",
    "for iter_ in range(13,len(data)):\n",
    "    label[iter_-13]=data[iter_][0]>=data[iter_-1][0]"
   ]
  },
  {
   "cell_type": "code",
   "execution_count": 10,
   "metadata": {},
   "outputs": [],
   "source": [
    "df = pd.DataFrame({'Momentum':M,'Label':label})\n",
    "df.to_csv('REE_Momentum.csv', index=True)"
   ]
  },
  {
   "cell_type": "code",
   "execution_count": null,
   "metadata": {},
   "outputs": [],
   "source": [
    "# def plot_chart(st,ed,M):\n",
    "#     plt.plot(M)\n",
    "#     plt.xlim(st,ed)\n",
    "# #     plt.show()\n",
    "#     path = './image/image_chart_' + str(st) + '_' + str(ed) + '.png'\n",
    "#     plt.savefig(path)"
   ]
  },
  {
   "cell_type": "code",
   "execution_count": null,
   "metadata": {},
   "outputs": [],
   "source": [
    "# for step_ in range(0,len(M),200):\n",
    "#     plot_chart(step_,step_+200,M)"
   ]
  }
 ],
 "metadata": {
  "kernelspec": {
   "display_name": "Python 3",
   "language": "python",
   "name": "python3"
  },
  "language_info": {
   "codemirror_mode": {
    "name": "ipython",
    "version": 3
   },
   "file_extension": ".py",
   "mimetype": "text/x-python",
   "name": "python",
   "nbconvert_exporter": "python",
   "pygments_lexer": "ipython3",
   "version": "3.7.0"
  }
 },
 "nbformat": 4,
 "nbformat_minor": 2
}
